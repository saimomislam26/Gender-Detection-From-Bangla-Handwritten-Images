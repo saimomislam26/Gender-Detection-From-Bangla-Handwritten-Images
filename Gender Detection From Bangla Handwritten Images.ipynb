{
  "nbformat": 4,
  "nbformat_minor": 0,
  "metadata": {
    "colab": {
      "name": "160204011_problem#2.ipynb",
      "provenance": [],
      "collapsed_sections": []
    },
    "kernelspec": {
      "name": "python3",
      "display_name": "Python 3"
    }
  },
  "cells": [
    {
      "cell_type": "markdown",
      "metadata": {
        "id": "MaAG8Lu0lUOO"
      },
      "source": [
        "## **Ekush Bengali Handwritten Digits**\n",
        "\n",
        "Handwritten Bangla digit recognition is one of the most challenging computer vision problems due to its diverse shapes and writing style including the label male or female.using neural network we have to find that whether the bangla digit is of male or is of a female.\n",
        "\n",
        "\n",
        "<div align=\"center\">\n",
        "<img src=\"https://drive.google.com/uc?id=1XtftbqV48mEFN6646XoKPN-mcWVc_JDz\" width=\"400\">\n",
        "</div>\n"
      ]
    },
    {
      "cell_type": "code",
      "metadata": {
        "id": "8fKb5x6UbBVY"
      },
      "source": [
        "import torch\n",
        "import torch.nn as nn\n",
        "import torch.nn.functional as F\n",
        "import torchvision\n",
        "import torchvision.datasets as dsets\n",
        "import torchvision.transforms as transforms\n",
        "import pandas as pd \n",
        "import numpy as np\n",
        "import matplotlib.pyplot as plt \n",
        "from sklearn.model_selection import train_test_split\n",
        "\n"
      ],
      "execution_count": null,
      "outputs": []
    },
    {
      "cell_type": "code",
      "metadata": {
        "colab": {
          "base_uri": "https://localhost:8080/"
        },
        "id": "xYdi4OKxhDoB",
        "outputId": "9d3355d2-b737-4d7a-a9b3-2243f416ccac"
      },
      "source": [
        "from google.colab import drive #mounted all file and folder from google drive\n",
        "drive.mount('/content/gdrive')"
      ],
      "execution_count": null,
      "outputs": [
        {
          "output_type": "stream",
          "text": [
            "Mounted at /content/gdrive\n"
          ],
          "name": "stdout"
        }
      ]
    },
    {
      "cell_type": "code",
      "metadata": {
        "id": "P6EsGZTghUo6"
      },
      "source": [
        "Root ='/content/gdrive/My Drive/Softcom/'"
      ],
      "execution_count": null,
      "outputs": []
    },
    {
      "cell_type": "markdown",
      "metadata": {
        "id": "8G7sGNGXlg26"
      },
      "source": [
        "**function for read the csv file**"
      ]
    },
    {
      "cell_type": "code",
      "metadata": {
        "id": "75q9YEJ2cKiQ"
      },
      "source": [
        "def showRawTrainingSamples(csv_filename):\n",
        "  if csv_filename == 'maleDigits.csv':\n",
        "    df1 = pd.read_csv(Root+csv_filename)\n",
        "    print(csv_filename)\n",
        "    print(df1.columns)\n",
        "    return df1\n",
        "  else:\n",
        "    df2 = pd.read_csv(Root+csv_filename)\n",
        "    print(csv_filename)\n",
        "    print(df2.columns) \n",
        "    \n",
        "  return df2"
      ],
      "execution_count": null,
      "outputs": []
    },
    {
      "cell_type": "code",
      "metadata": {
        "id": "FA28URWBh7SN"
      },
      "source": [
        "male_csv = showRawTrainingSamples('maleDigits.csv')\n",
        "female_csv = showRawTrainingSamples('femaleDigits.csv')"
      ],
      "execution_count": null,
      "outputs": []
    },
    {
      "cell_type": "markdown",
      "metadata": {
        "id": "Xw2JP_uOlnsY"
      },
      "source": [
        "**giving the level and merging the csv file**"
      ]
    },
    {
      "cell_type": "code",
      "metadata": {
        "id": "96UJP4GmcjLN"
      },
      "source": [
        "male_csv['label'] = 1\n",
        "female_csv['label'] = 0\n",
        "female_label=male_csv['label']\n",
        "male_label=female_csv['label']\n",
        "df_names=[female_label,male_label]\n",
        "all_labels=pd.concat(df_names,ignore_index=True)"
      ],
      "execution_count": null,
      "outputs": []
    },
    {
      "cell_type": "code",
      "metadata": {
        "id": "EhY3rhfAdBgt",
        "colab": {
          "base_uri": "https://localhost:8080/"
        },
        "outputId": "1b3d4405-ac95-404b-eaf7-89d5aa6f6540"
      },
      "source": [
        "df_name=[male_csv,female_csv]\n",
        "total_image=pd.concat(df_name,ignore_index=True)\n",
        "total_image=total_image.drop(labels='label',axis=1)\n",
        "print(total_image.shape)"
      ],
      "execution_count": null,
      "outputs": [
        {
          "output_type": "stream",
          "text": [
            "(30830, 784)\n"
          ],
          "name": "stdout"
        }
      ]
    },
    {
      "cell_type": "code",
      "metadata": {
        "id": "HJ_zHMuHeqM1"
      },
      "source": [
        "total_image=total_image/255.0\n",
        "total_image=total_image.values.reshape(-1,28,28,1)"
      ],
      "execution_count": null,
      "outputs": []
    },
    {
      "cell_type": "markdown",
      "metadata": {
        "id": "y2Lh7tKoltpH"
      },
      "source": [
        "**showing image**"
      ]
    },
    {
      "cell_type": "code",
      "metadata": {
        "colab": {
          "base_uri": "https://localhost:8080/",
          "height": 282
        },
        "id": "jeSRUqB6fBt9",
        "outputId": "ff4b32f5-f761-40de-c575-f8019caa9ad6"
      },
      "source": [
        "import matplotlib.pyplot as plt \n",
        "import numpy as np\n",
        "\n",
        "show_img = total_image[0].reshape(28, 28)\n",
        "plt.imshow(show_img, cmap='gray')\n",
        "print(all_labels[0])"
      ],
      "execution_count": null,
      "outputs": [
        {
          "output_type": "stream",
          "text": [
            "1\n"
          ],
          "name": "stdout"
        },
        {
          "output_type": "display_data",
          "data": {
            "image/png": "[encoded data removed]",
            "text/plain": [
              "<Figure size 432x288 with 1 Axes>"
            ]
          },
          "metadata": {
            "tags": [],
            "needs_background": "light"
          }
        }
      ]
    },
    {
      "cell_type": "code",
      "metadata": {
        "id": "R02ThzBvfFGd"
      },
      "source": [
        "X_train, X_test, y_train, y_test = train_test_split(total_image, all_labels, test_size=0.1)\n"
      ],
      "execution_count": null,
      "outputs": []
    },
    {
      "cell_type": "code",
      "metadata": {
        "id": "biE0zczh2bwm"
      },
      "source": [
        "train_dataset = list(zip(X_train,y_train))\n",
        "test_dataset = list(zip(X_test,y_test))"
      ],
      "execution_count": null,
      "outputs": []
    },
    {
      "cell_type": "markdown",
      "metadata": {
        "id": "2d0lrHsWl5RF"
      },
      "source": [
        "### Hyperparameter initialazation\n",
        "Hyper parameter is predefined which is not changed during run time.But it is an important factor. we must be careful about choosing the hyperparameter value.\n",
        "Here batch size,number of iteration,input dimension,output dimension,learning rate are Hyperparameters.Even choosing the optimizer is also a hyperparameter.we chose loss Entropy instead of MSE here for better output\n",
        "\n",
        "\n"
      ]
    },
    {
      "cell_type": "markdown",
      "metadata": {
        "id": "SxzZk12em14i"
      },
      "source": [
        "- **totaldata:** 30830\n",
        "- **minibatch:** 100\n",
        "  - Number of examples in **1** iteration\n",
        "\n",
        "- **iterations:** 3,000\n",
        "  - *1 iteration: one mini-batch forward & backward pass. That means a parameter (wights and biases) update.*\n",
        "\n",
        "- **epochs**\n",
        "  - 1 epoch: running through the whole dataset once\n",
        "  - $epochs = iterations \\div \\frac{totaldata}{minibatch} = 3000 \\div \\frac{30830}{100} = 9$\n"
      ]
    },
    {
      "cell_type": "markdown",
      "metadata": {
        "id": "C6Lgkk_om_RI"
      },
      "source": [
        "### Construct loss and optimizer (select from PyTorch API)\n",
        "\n",
        "Unlike linear regression, we do not use MSE here, we need Cross Entropy Loss to calculate our loss before we backpropagate and update our parameters.\n",
        "\n",
        "`criterion = nn.CrossEntropyLoss() ` \n",
        "\n",
        "It does 2 things at the same time.\n",
        "\n",
        "1. Computes softmax **([Logistic or Sigmoid]/softmax function)**\n",
        "2. Computes Cross Entropy Loss"
      ]
    },
    {
      "cell_type": "code",
      "metadata": {
        "colab": {
          "base_uri": "https://localhost:8080/"
        },
        "id": "O1dfEDVQ23LI",
        "outputId": "64bf5ebc-fcb7-4735-a358-da844701df35"
      },
      "source": [
        "import torch\n",
        "import torch.nn as nn\n",
        "import torchvision.transforms as transforms\n",
        "import torchvision.datasets as dsets\n",
        "\n",
        "# Hyperparameters\n",
        "batch_size = 100\n",
        "num_iters = 3000\n",
        "input_dim = 28*28 # num_features = 784\n",
        "output_dim = 10\n",
        "#num_hidden = 100\n",
        "learning_rate = 0.001\n",
        "\n",
        "learning_rate = 0.1\n",
        "\n",
        "# Device\n",
        "device = torch.device(\"cuda:0\" if torch.cuda.is_available() else \"cpu\")\n",
        "\n",
        "\n",
        "\n",
        "\n",
        "num_epochs = num_iters / (len(train_dataset) / batch_size)\n",
        "num_epochs = int(num_epochs)\n",
        "\n",
        "train_loader = torch.utils.data.DataLoader(dataset=train_dataset, \n",
        "                                           batch_size=batch_size, \n",
        "                                           shuffle=True)   # It's better to shuffle the whole training dataset! \n",
        "\n",
        "test_loader = torch.utils.data.DataLoader(dataset=test_dataset, \n",
        "                                          batch_size=batch_size, \n",
        "                                          shuffle=False) \n",
        "\n",
        "class DeepNeuralNetworkModel(nn.Module):\n",
        "    def __init__(self, input_size, num_classes, num_hidden):\n",
        "        super().__init__()\n",
        "        ### 1st hidden layer: 784 --> 100\n",
        "        self.linear_1 = nn.Linear(input_size, num_hidden)\n",
        "        ### Non-linearity in 1st hidden layer\n",
        "        self.relu_1 = nn.ReLU()\n",
        "\n",
        "        ### 2nd hidden layer: 100 --> 100\n",
        "        self.linear_2 = nn.Linear(num_hidden, num_hidden)\n",
        "        ### Non-linearity in 2nd hidden layer\n",
        "        self.relu_2 = nn.ReLU()\n",
        "\n",
        "        ### 3rd hidden layer: 100 --> 100\n",
        "        self.linear_3 = nn.Linear(num_hidden, num_hidden)\n",
        "        ### Non-linearity in 3rd hidden layer\n",
        "        self.relu_3 = nn.ReLU()\n",
        "\n",
        "        ### Output layer: 100 --> 10\n",
        "        self.linear_out = nn.Linear(num_hidden, num_classes)\n",
        "\n",
        "    def forward(self, x):\n",
        "        ### 1st hidden layer\n",
        "        out  = self.linear_1(x)\n",
        "        ### Non-linearity in 1st hidden layer\n",
        "        out = self.relu_1(out)\n",
        "        \n",
        "        ### 2nd hidden layer\n",
        "        out  = self.linear_2(out)\n",
        "        ### Non-linearity in 2nd hidden layer\n",
        "        out = self.relu_2(out)\n",
        "\n",
        "        ### 3rd hidden layer\n",
        "        out  = self.linear_3(out)\n",
        "        ### Non-linearity in 3rd hidden layer\n",
        "        out = self.relu_3(out)\n",
        "\n",
        "        # Linear layer (output)\n",
        "        probas  = self.linear_out(out)\n",
        "        return probas\n",
        "\n",
        "# INSTANTIATE MODEL CLASS\n",
        "\n",
        "model = DeepNeuralNetworkModel(input_size = input_dim,\n",
        "                               num_classes = output_dim,\n",
        "                               num_hidden = 128)\n",
        "# To enable GPU\n",
        "model.to(device)\n",
        "\n",
        "# INSTANTIATE LOSS & OPTIMIZER CLASS\n",
        "\n",
        "criterion = nn.CrossEntropyLoss()\n",
        "optimizer = torch.optim.Adam(model.parameters(), lr=learning_rate)\n",
        "\n",
        "iter = 0\n",
        "for epoch in range(num_epochs):\n",
        "    for i, (images, labels) in enumerate(train_loader):\n",
        "\n",
        "        images = images.view(-1, 28*28).to(device)\n",
        "        labels = labels.to(device)\n",
        "\n",
        "        # Clear gradients w.r.t. parameters\n",
        "        optimizer.zero_grad()\n",
        "\n",
        "        # Forward pass to get output/logits\n",
        "        outputs = model(images.float())\n",
        "\n",
        "        # Calculate Loss: softmax --> cross entropy loss\n",
        "        loss = criterion(outputs, labels)\n",
        "\n",
        "        # Getting gradients w.r.t. parameters\n",
        "        loss.backward()\n",
        "\n",
        "        # Updating parameters\n",
        "        optimizer.step()\n",
        "\n",
        "        iter += 1\n",
        "\n",
        "        if iter % 500 == 0:\n",
        "            # Calculate Accuracy         \n",
        "            correct = 0\n",
        "            total = 0\n",
        "            # Iterate through test dataset\n",
        "            for images, labels in test_loader:\n",
        "               \n",
        "                images = images.view(-1, 28*28).to(device)\n",
        "\n",
        "                # Forward pass only to get logits/output\n",
        "                outputs = model(images.float())\n",
        "\n",
        "                # Get predictions from the maximum value\n",
        "                _, predicted = torch.max(outputs, 1)\n",
        "\n",
        "                # Total number of labels\n",
        "                total += labels.size(0)\n",
        "\n",
        "\n",
        "                # Total correct predictions\n",
        "                if torch.cuda.is_available():\n",
        "                    correct += (predicted.cpu() == labels.cpu()).sum() \n",
        "                else:\n",
        "                    correct += (predicted == labels).sum()\n",
        "\n",
        "            accuracy = 100 * correct.item() / total\n",
        "\n",
        "            # Print Loss\n",
        "            print('Iteration: {}. Loss: {}. Accuracy: {}'.format(iter, loss.item(), accuracy))"
      ],
      "execution_count": null,
      "outputs": [
        {
          "output_type": "stream",
          "text": [
            "Iteration: 500. Loss: 0.7573212385177612. Accuracy: 51.3136555303276\n",
            "Iteration: 1000. Loss: 0.6899835467338562. Accuracy: 48.6863444696724\n",
            "Iteration: 1500. Loss: 0.698710560798645. Accuracy: 48.6863444696724\n",
            "Iteration: 2000. Loss: 0.6932975053787231. Accuracy: 51.3136555303276\n",
            "Iteration: 2500. Loss: 0.6991208791732788. Accuracy: 51.3136555303276\n"
          ],
          "name": "stdout"
        }
      ]
    },
    {
      "cell_type": "markdown",
      "metadata": {
        "id": "z7ysQn5LnMN0"
      },
      "source": [
        "**Setting2**"
      ]
    },
    {
      "cell_type": "markdown",
      "metadata": {
        "id": "TtbPfLvBnko8"
      },
      "source": [
        "- **totaldata:** 30830\n",
        "- **minibatch:** 200\n",
        "  - Number of examples in **1** iteration\n",
        "\n",
        "- **iterations:** 3,000\n",
        "  - *1 iteration: one mini-batch forward & backward pass. That means a parameter (wights and biases) update.*\n",
        "\n",
        "- **epochs**\n",
        "  - 1 epoch: running through the whole dataset once\n",
        "  - $epochs = iterations \\div \\frac{totaldata}{minibatch} = 3000 \\div \\frac{30830}{200} = 19$\n"
      ]
    },
    {
      "cell_type": "code",
      "metadata": {
        "colab": {
          "base_uri": "https://localhost:8080/"
        },
        "id": "KzAKxI010yMY",
        "outputId": "dde9f987-e7fd-4d3e-fec3-a58971839d18"
      },
      "source": [
        "import torch\n",
        "import torch.nn as nn\n",
        "import torchvision.transforms as transforms\n",
        "import torchvision.datasets as dsets\n",
        "\n",
        "# Hyperparameters\n",
        "batch_size = 200\n",
        "num_iters = 3000\n",
        "input_dim = 28*28 # num_features = 784\n",
        "output_dim = 10\n",
        "learning_rate = 0.001\n",
        "\n",
        "# Device\n",
        "device = torch.device(\"cuda:0\" if torch.cuda.is_available() else \"cpu\")\n",
        "\n",
        "\n",
        "\n",
        "\n",
        "num_epochs = num_iters / (len(train_dataset) / batch_size)\n",
        "num_epochs = int(num_epochs)\n",
        "\n",
        "train_loader = torch.utils.data.DataLoader(dataset=train_dataset, \n",
        "                                           batch_size=batch_size, \n",
        "                                           shuffle=True)   # It's better to shuffle the whole training dataset! \n",
        "\n",
        "test_loader = torch.utils.data.DataLoader(dataset=test_dataset, \n",
        "                                          batch_size=batch_size, \n",
        "                                          shuffle=False) \n",
        "\n",
        "class DeepNeuralNetworkModel(nn.Module):\n",
        "    def __init__(self, input_size, num_classes, num_hidden):\n",
        "        super().__init__()\n",
        "        ### 1st hidden layer: 784 --> 100\n",
        "        self.linear_1 = nn.Linear(input_size, num_hidden)\n",
        "        ### Non-linearity in 1st hidden layer\n",
        "        self.relu_1 = nn.ReLU()\n",
        "\n",
        "        ### 2nd hidden layer: 100 --> 100\n",
        "        self.linear_2 = nn.Linear(num_hidden, num_hidden)\n",
        "        ### Non-linearity in 2nd hidden layer\n",
        "        self.relu_2 = nn.ReLU()\n",
        "\n",
        "        ### 3rd hidden layer: 100 --> 100\n",
        "        self.linear_3 = nn.Linear(num_hidden, num_hidden)\n",
        "        ### Non-linearity in 3rd hidden layer\n",
        "        self.relu_3 = nn.ReLU()\n",
        "\n",
        "\n",
        "        ### 3rd hidden layer: 100 --> 100\n",
        "        self.linear_4 = nn.Linear(num_hidden, num_hidden)\n",
        "        ### Non-linearity in 3rd hidden layer\n",
        "        self.relu_4 = nn.ReLU()\n",
        "\n",
        "        ### Output layer: 100 --> 10\n",
        "        self.linear_out = nn.Linear(num_hidden, num_classes)\n",
        "\n",
        "    def forward(self, x):\n",
        "        ### 1st hidden layer\n",
        "        out  = self.linear_1(x)\n",
        "        ### Non-linearity in 1st hidden layer\n",
        "        out = self.relu_1(out)\n",
        "        \n",
        "        ### 2nd hidden layer\n",
        "        out  = self.linear_2(out)\n",
        "        ### Non-linearity in 2nd hidden layer\n",
        "        out = self.relu_2(out)\n",
        "\n",
        "        ### 3rd hidden layer\n",
        "        out  = self.linear_3(out)\n",
        "        ### Non-linearity in 3rd hidden layer\n",
        "        out = self.relu_3(out)\n",
        "        \n",
        "        ### 4th hidden layer\n",
        "        out  = self.linear_4(out)\n",
        "        ### Non-linearity in 4th hidden layer\n",
        "        out = self.relu_4(out)\n",
        "\n",
        "        # Linear layer (output)\n",
        "        probas  = self.linear_out(out)\n",
        "        return probas\n",
        "\n",
        "# INSTANTIATE MODEL CLASS\n",
        "\n",
        "model = DeepNeuralNetworkModel(input_size = input_dim,\n",
        "                               num_classes = output_dim,\n",
        "                               num_hidden = 128)\n",
        "# To enable GPU\n",
        "model.to(device)\n",
        "\n",
        "# INSTANTIATE LOSS & OPTIMIZER CLASS\n",
        "\n",
        "criterion = nn.CrossEntropyLoss()\n",
        "optimizer = torch.optim.Adam(model.parameters(), lr=learning_rate)\n",
        "\n",
        "iter = 0\n",
        "for epoch in range(num_epochs):\n",
        "    for i, (images, labels) in enumerate(train_loader):\n",
        "\n",
        "        images = images.view(-1, 28*28).to(device)\n",
        "        labels = labels.to(device)\n",
        "\n",
        "        # Clear gradients w.r.t. parameters\n",
        "        optimizer.zero_grad()\n",
        "\n",
        "        # Forward pass to get output/logits\n",
        "        outputs = model(images.float())\n",
        "\n",
        "        # Calculate Loss: softmax --> cross entropy loss\n",
        "        loss = criterion(outputs, labels)\n",
        "\n",
        "        # Getting gradients w.r.t. parameters\n",
        "        loss.backward()\n",
        "\n",
        "        # Updating parameters\n",
        "        optimizer.step()\n",
        "\n",
        "        iter += 1\n",
        "\n",
        "        if iter % 500 == 0:\n",
        "            # Calculate Accuracy         \n",
        "            correct = 0\n",
        "            total = 0\n",
        "            # Iterate through test dataset\n",
        "            for images, labels in test_loader:\n",
        "               \n",
        "                images = images.view(-1, 28*28).to(device)\n",
        "\n",
        "                # Forward pass only to get logits/output\n",
        "                outputs = model(images.float())\n",
        "\n",
        "                # Get predictions from the maximum value\n",
        "                _, predicted = torch.max(outputs, 1)\n",
        "\n",
        "                # Total number of labels\n",
        "                total += labels.size(0)\n",
        "\n",
        "\n",
        "                # Total correct predictions\n",
        "                if torch.cuda.is_available():\n",
        "                    correct += (predicted.cpu() == labels.cpu()).sum() \n",
        "                else:\n",
        "                    correct += (predicted == labels).sum()\n",
        "\n",
        "            accuracy = 100 * correct.item() / total\n",
        "\n",
        "            # Print Loss\n",
        "            print('Iteration: {}. Loss: {}. Accuracy: {}'.format(iter, loss.item(), accuracy))"
      ],
      "execution_count": null,
      "outputs": [
        {
          "output_type": "stream",
          "text": [
            "Iteration: 500. Loss: 0.6792611479759216. Accuracy: 62.082387285111906\n",
            "Iteration: 1000. Loss: 0.6312875151634216. Accuracy: 63.282517028867986\n",
            "Iteration: 1500. Loss: 0.5901315808296204. Accuracy: 62.40674667531625\n",
            "Iteration: 2000. Loss: 0.5244690179824829. Accuracy: 60.07135906584496\n",
            "Iteration: 2500. Loss: 0.41976356506347656. Accuracy: 59.098280895231916\n"
          ],
          "name": "stdout"
        }
      ]
    },
    {
      "cell_type": "markdown",
      "metadata": {
        "id": "PYCvxTRXn_xP"
      },
      "source": [
        "**Setting 3**"
      ]
    },
    {
      "cell_type": "markdown",
      "metadata": {
        "id": "xLVPY8I7nvrj"
      },
      "source": [
        "- **totaldata:** 30830\n",
        "- **minibatch:** 100\n",
        "  - Number of examples in **1** iteration\n",
        "\n",
        "- **iterations:** 3,000\n",
        "  - *1 iteration: one mini-batch forward & backward pass. That means a parameter (wights and biases) update.*\n",
        "\n",
        "- **epochs**\n",
        "  - 1 epoch: running through the whole dataset once\n",
        "  - $epochs = iterations \\div \\frac{totaldata}{minibatch} = 3000 \\div \\frac{30830}{100} = 9$\n"
      ]
    },
    {
      "cell_type": "code",
      "metadata": {
        "colab": {
          "base_uri": "https://localhost:8080/"
        },
        "id": "mb8M0sL41OJC",
        "outputId": "bd57e5f6-93de-4cbb-a159-328c71b8a066"
      },
      "source": [
        "import torch\n",
        "import torch.nn as nn\n",
        "import torchvision.transforms as transforms\n",
        "import torchvision.datasets as dsets\n",
        "\n",
        "# Hyperparameters\n",
        "batch_size = 100\n",
        "num_iters = 3000\n",
        "input_dim = 28*28 # num_features = 784\n",
        "output_dim = 10\n",
        "learning_rate = 0.1\n",
        "\n",
        "\n",
        "\n",
        "# Device\n",
        "device = torch.device(\"cuda:0\" if torch.cuda.is_available() else \"cpu\")\n",
        "\n",
        "\n",
        "\n",
        "\n",
        "num_epochs = num_iters / (len(train_dataset) / batch_size)\n",
        "num_epochs = int(num_epochs)\n",
        "\n",
        "train_loader = torch.utils.data.DataLoader(dataset=train_dataset, \n",
        "                                           batch_size=batch_size, \n",
        "                                           shuffle=True)   # It's better to shuffle the whole training dataset! \n",
        "\n",
        "test_loader = torch.utils.data.DataLoader(dataset=test_dataset, \n",
        "                                          batch_size=batch_size, \n",
        "                                          shuffle=False) \n",
        "\n",
        "class DeepNeuralNetworkModel(nn.Module):\n",
        "    def __init__(self, input_size, num_classes, num_hidden):\n",
        "        super().__init__()\n",
        "        ### 1st hidden layer: 784 --> 100\n",
        "        self.linear_1 = nn.Linear(input_size, num_hidden)\n",
        "        ### Non-linearity in 1st hidden layer\n",
        "        self.relu_1 = nn.ReLU()\n",
        "\n",
        "        ### 2nd hidden layer: 100 --> 100\n",
        "        self.linear_2 = nn.Linear(num_hidden, num_hidden)\n",
        "        ### Non-linearity in 2nd hidden layer\n",
        "        self.relu_2 = nn.ReLU()\n",
        "\n",
        "        ### 3rd hidden layer: 100 --> 100\n",
        "        self.linear_3 = nn.Linear(num_hidden, num_hidden)\n",
        "        ### Non-linearity in 3rd hidden layer\n",
        "        self.relu_3 = nn.ReLU()\n",
        "\n",
        "\n",
        "        ### 4th hidden layer: 100 --> 100\n",
        "        self.linear_4 = nn.Linear(num_hidden, num_hidden)\n",
        "        ### Non-linearity in 4th hidden layer\n",
        "        self.relu_4 = nn.ReLU()\n",
        "\n",
        "\n",
        "        ### 5th hidden layer: 100 --> 100\n",
        "        self.linear_5 = nn.Linear(num_hidden, num_hidden)\n",
        "        ### Non-linearity in 5th hidden layer\n",
        "        self.relu_5 = nn.ReLU()\n",
        "\n",
        "        ### Output layer: 100 --> 10\n",
        "        self.linear_out = nn.Linear(num_hidden, num_classes)\n",
        "\n",
        "    def forward(self, x):\n",
        "        ### 1st hidden layer\n",
        "        out  = self.linear_1(x)\n",
        "        ### Non-linearity in 1st hidden layer\n",
        "        out = self.relu_1(out)\n",
        "        \n",
        "        ### 2nd hidden layer\n",
        "        out  = self.linear_2(out)\n",
        "        ### Non-linearity in 2nd hidden layer\n",
        "        out = self.relu_2(out)\n",
        "\n",
        "        ### 3rd hidden layer\n",
        "        out  = self.linear_3(out)\n",
        "        ### Non-linearity in 3rd hidden layer\n",
        "        out = self.relu_3(out)\n",
        "        \n",
        "        ### 4th hidden layer\n",
        "        out  = self.linear_4(out)\n",
        "        ### Non-linearity in 4th hidden layer\n",
        "        out = self.relu_4(out)\n",
        "\n",
        "\n",
        "        ### 5th hidden layer\n",
        "        out  = self.linear_5(out)\n",
        "        ### Non-linearity in 5th hidden layer\n",
        "        out = self.relu_5(out)\n",
        "\n",
        "        # Linear layer (output)\n",
        "        probas  = self.linear_out(out)\n",
        "        return probas\n",
        "\n",
        "# INSTANTIATE MODEL CLASS\n",
        "\n",
        "model = DeepNeuralNetworkModel(input_size = input_dim,\n",
        "                               num_classes = output_dim,\n",
        "                               num_hidden = 128)\n",
        "# To enable GPU\n",
        "model.to(device)\n",
        "\n",
        "# INSTANTIATE LOSS & OPTIMIZER CLASS\n",
        "\n",
        "criterion = nn.CrossEntropyLoss()\n",
        "optimizer = torch.optim.Adam(model.parameters(), lr=learning_rate)\n",
        "\n",
        "iter = 0\n",
        "for epoch in range(num_epochs):\n",
        "    for i, (images, labels) in enumerate(train_loader):\n",
        "\n",
        "        images = images.view(-1, 28*28).to(device)\n",
        "        labels = labels.to(device)\n",
        "\n",
        "        # Clear gradients w.r.t. parameters\n",
        "        optimizer.zero_grad()\n",
        "\n",
        "        # Forward pass to get output/logits\n",
        "        outputs = model(images.float())\n",
        "\n",
        "        # Calculate Loss: softmax --> cross entropy loss\n",
        "        loss = criterion(outputs, labels)\n",
        "\n",
        "        # Getting gradients w.r.t. parameters\n",
        "        loss.backward()\n",
        "\n",
        "        # Updating parameters\n",
        "        optimizer.step()\n",
        "\n",
        "        iter += 1\n",
        "\n",
        "        if iter % 500 == 0:\n",
        "            # Calculate Accuracy         \n",
        "            correct = 0\n",
        "            total = 0\n",
        "            # Iterate through test dataset\n",
        "            for images, labels in test_loader:\n",
        "               \n",
        "                images = images.view(-1, 28*28).to(device)\n",
        "\n",
        "                # Forward pass only to get logits/output\n",
        "                outputs = model(images.float())\n",
        "\n",
        "                # Get predictions from the maximum value\n",
        "                _, predicted = torch.max(outputs, 1)\n",
        "\n",
        "                # Total number of labels\n",
        "                total += labels.size(0)\n",
        "\n",
        "\n",
        "                # Total correct predictions\n",
        "                if torch.cuda.is_available():\n",
        "                    correct += (predicted.cpu() == labels.cpu()).sum() \n",
        "                else:\n",
        "                    correct += (predicted == labels).sum()\n",
        "\n",
        "            accuracy = 100 * correct.item() / total\n",
        "\n",
        "            # Print Loss\n",
        "            print('Iteration: {}. Loss: {}. Accuracy: {}'.format(iter, loss.item(), accuracy))"
      ],
      "execution_count": null,
      "outputs": [
        {
          "output_type": "stream",
          "text": [
            "Iteration: 500. Loss: 0.703399658203125. Accuracy: 51.3136555303276\n",
            "Iteration: 1000. Loss: 0.6970860958099365. Accuracy: 48.6863444696724\n",
            "Iteration: 1500. Loss: 0.6905996799468994. Accuracy: 48.6863444696724\n",
            "Iteration: 2000. Loss: 0.6950985789299011. Accuracy: 51.3136555303276\n",
            "Iteration: 2500. Loss: 0.6940391063690186. Accuracy: 48.6863444696724\n"
          ],
          "name": "stdout"
        }
      ]
    },
    {
      "cell_type": "markdown",
      "metadata": {
        "id": "DBv7A8ghoTQ3"
      },
      "source": [
        "**Setting 4**"
      ]
    },
    {
      "cell_type": "markdown",
      "metadata": {
        "id": "syIqqfuEpU2s"
      },
      "source": [
        "- **totaldata:** 30830\n",
        "- **minibatch:** 100\n",
        "  - Number of examples in **1** iteration\n",
        "\n",
        "- **iterations:** 6,000\n",
        "  - *1 iteration: one mini-batch forward & backward pass. That means a parameter (wights and biases) update.*\n",
        "\n",
        "- **epochs**\n",
        "  - 1 epoch: running through the whole dataset once\n",
        "  - $epochs = iterations \\div \\frac{totaldata}{minibatch} = 3000 \\div \\frac{30830}{100} = 19$\n"
      ]
    },
    {
      "cell_type": "code",
      "metadata": {
        "colab": {
          "base_uri": "https://localhost:8080/"
        },
        "id": "9WAsc2FJ3ACX",
        "outputId": "7c2c420b-d486-4464-9467-cd347250d2cb"
      },
      "source": [
        "import torch\n",
        "import torch.nn as nn\n",
        "import torchvision.transforms as transforms\n",
        "import torchvision.datasets as dsets\n",
        "\n",
        "# Hyperparameters\n",
        "batch_size = 100\n",
        "num_iters = 6000\n",
        "input_dim = 28*28 # num_features = 784\n",
        "output_dim = 10\n",
        "learning_rate = 0.001\n",
        "\n",
        "# Device\n",
        "device = torch.device(\"cuda:0\" if torch.cuda.is_available() else \"cpu\")\n",
        "\n",
        "\n",
        "\n",
        "\n",
        "num_epochs = num_iters / (len(train_dataset) / batch_size)\n",
        "num_epochs = int(num_epochs)\n",
        "\n",
        "train_loader = torch.utils.data.DataLoader(dataset=train_dataset, \n",
        "                                           batch_size=batch_size, \n",
        "                                           shuffle=True)   # It's better to shuffle the whole training dataset! \n",
        "\n",
        "test_loader = torch.utils.data.DataLoader(dataset=test_dataset, \n",
        "                                          batch_size=batch_size, \n",
        "                                          shuffle=False) \n",
        "\n",
        "class DeepNeuralNetworkModel(nn.Module):\n",
        "    def __init__(self, input_size, num_classes, num_hidden):\n",
        "        super().__init__()\n",
        "        ### 1st hidden layer: 784 --> 100\n",
        "        self.linear_1 = nn.Linear(input_size, num_hidden)\n",
        "        ### Non-linearity in 1st hidden layer\n",
        "        self.relu_1 = nn.ReLU()\n",
        "\n",
        "        ### 2nd hidden layer: 100 --> 100\n",
        "        self.linear_2 = nn.Linear(num_hidden, num_hidden)\n",
        "        ### Non-linearity in 2nd hidden layer\n",
        "        self.relu_2 = nn.ReLU()\n",
        "\n",
        "        ### 3rd hidden layer: 100 --> 100\n",
        "        self.linear_3 = nn.Linear(num_hidden, num_hidden)\n",
        "        ### Non-linearity in 3rd hidden layer\n",
        "        self.relu_3 = nn.ReLU()\n",
        "\n",
        "\n",
        "        ### 4th hidden layer: 100 --> 100\n",
        "        self.linear_4 = nn.Linear(num_hidden, num_hidden)\n",
        "        ### Non-linearity in 4th hidden layer\n",
        "        self.relu_4 = nn.ReLU()\n",
        "\n",
        "\n",
        "        ### 5th hidden layer: 100 --> 100\n",
        "        self.linear_5 = nn.Linear(num_hidden, num_hidden)\n",
        "        ### Non-linearity in 5th hidden layer\n",
        "        self.relu_5 = nn.ReLU()\n",
        "\n",
        "        ### 6th hidden layer: 100 --> 100\n",
        "        self.linear_6 = nn.Linear(num_hidden, num_hidden)\n",
        "        ### Non-linearity in 6th hidden layer\n",
        "        self.relu_6 = nn.ReLU()\n",
        "\n",
        "\n",
        "        ### Output layer: 100 --> 10\n",
        "        self.linear_out = nn.Linear(num_hidden, num_classes)\n",
        "\n",
        "    def forward(self, x):\n",
        "        ### 1st hidden layer\n",
        "        out  = self.linear_1(x)\n",
        "        ### Non-linearity in 1st hidden layer\n",
        "        out = self.relu_1(out)\n",
        "        \n",
        "        ### 2nd hidden layer\n",
        "        out  = self.linear_2(out)\n",
        "        ### Non-linearity in 2nd hidden layer\n",
        "        out = self.relu_2(out)\n",
        "\n",
        "        ### 3rd hidden layer\n",
        "        out  = self.linear_3(out)\n",
        "        ### Non-linearity in 3rd hidden layer\n",
        "        out = self.relu_3(out)\n",
        "        \n",
        "        ### 4th hidden layer\n",
        "        out  = self.linear_4(out)\n",
        "        ### Non-linearity in 4th hidden layer\n",
        "        out = self.relu_4(out)\n",
        "\n",
        "\n",
        "        ### 5th hidden layer\n",
        "        out  = self.linear_5(out)\n",
        "        ### Non-linearity in 5th hidden layer\n",
        "        out = self.relu_5(out)\n",
        "\n",
        "\n",
        "        ### 6th hidden layer\n",
        "        out  = self.linear_6(out)\n",
        "        ### Non-linearity in 6th hidden layer\n",
        "        out = self.relu_6(out)\n",
        "\n",
        "\n",
        "        # Linear layer (output)\n",
        "        probas  = self.linear_out(out)\n",
        "        return probas\n",
        "\n",
        "# INSTANTIATE MODEL CLASS\n",
        "\n",
        "model = DeepNeuralNetworkModel(input_size = input_dim,\n",
        "                               num_classes = output_dim,\n",
        "                               num_hidden = 128)\n",
        "# To enable GPU\n",
        "model.to(device)\n",
        "\n",
        "# INSTANTIATE LOSS & OPTIMIZER CLASS\n",
        "\n",
        "criterion = nn.CrossEntropyLoss()\n",
        "optimizer = torch.optim.Adam(model.parameters(), lr=learning_rate)\n",
        "\n",
        "iter = 0\n",
        "for epoch in range(num_epochs):\n",
        "    for i, (images, labels) in enumerate(train_loader):\n",
        "\n",
        "        images = images.view(-1, 28*28).to(device)\n",
        "        labels = labels.to(device)\n",
        "\n",
        "        # Clear gradients w.r.t. parameters\n",
        "        optimizer.zero_grad()\n",
        "\n",
        "        # Forward pass to get output/logits\n",
        "        outputs = model(images.float())\n",
        "\n",
        "        # Calculate Loss: softmax --> cross entropy loss\n",
        "        loss = criterion(outputs, labels)\n",
        "\n",
        "        # Getting gradients w.r.t. parameters\n",
        "        loss.backward()\n",
        "\n",
        "        # Updating parameters\n",
        "        optimizer.step()\n",
        "\n",
        "        iter += 1\n",
        "\n",
        "        if iter % 500 == 0:\n",
        "            # Calculate Accuracy         \n",
        "            correct = 0\n",
        "            total = 0\n",
        "            # Iterate through test dataset\n",
        "            for images, labels in test_loader:\n",
        "               \n",
        "                images = images.view(-1, 28*28).to(device)\n",
        "\n",
        "                # Forward pass only to get logits/output\n",
        "                outputs = model(images.float())\n",
        "\n",
        "                # Get predictions from the maximum value\n",
        "                _, predicted = torch.max(outputs, 1)\n",
        "\n",
        "                # Total number of labels\n",
        "                total += labels.size(0)\n",
        "\n",
        "\n",
        "                # Total correct predictions\n",
        "                if torch.cuda.is_available():\n",
        "                    correct += (predicted.cpu() == labels.cpu()).sum() \n",
        "                else:\n",
        "                    correct += (predicted == labels).sum()\n",
        "\n",
        "            accuracy = 100 * correct.item() / total\n",
        "\n",
        "            # Print Loss\n",
        "            print('Iteration: {}. Loss: {}. Accuracy: {}'.format(iter, loss.item(), accuracy))"
      ],
      "execution_count": null,
      "outputs": [
        {
          "output_type": "stream",
          "text": [
            "Iteration: 500. Loss: 0.6763009428977966. Accuracy: 59.26046059033409\n",
            "Iteration: 1000. Loss: 0.7243668437004089. Accuracy: 62.179695102173206\n",
            "Iteration: 1500. Loss: 0.6588746905326843. Accuracy: 62.504054492377556\n",
            "Iteration: 2000. Loss: 0.5687410831451416. Accuracy: 62.27700291923451\n",
            "Iteration: 2500. Loss: 0.5808610916137695. Accuracy: 62.69867012650016\n",
            "Iteration: 3000. Loss: 0.5541413426399231. Accuracy: 62.66623418747973\n",
            "Iteration: 3500. Loss: 0.49485939741134644. Accuracy: 62.147259163152775\n",
            "Iteration: 4000. Loss: 0.5221499800682068. Accuracy: 62.63379824845929\n",
            "Iteration: 4500. Loss: 0.5865119695663452. Accuracy: 61.59584819980538\n",
            "Iteration: 5000. Loss: 0.5273468494415283. Accuracy: 62.47161855335712\n",
            "Iteration: 5500. Loss: 0.4258202612400055. Accuracy: 60.91469348037626\n"
          ],
          "name": "stdout"
        }
      ]
    },
    {
      "cell_type": "markdown",
      "metadata": {
        "id": "k5M3TnnBp0bY"
      },
      "source": [
        "**Setting 5**"
      ]
    },
    {
      "cell_type": "markdown",
      "metadata": {
        "id": "tLANiZTrpyNG"
      },
      "source": [
        "- **totaldata:** 30830\n",
        "- **minibatch:** 50\n",
        "  - Number of examples in **1** iteration\n",
        "\n",
        "- **iterations:** 3,000\n",
        "  - *1 iteration: one mini-batch forward & backward pass. That means a parameter (wights and biases) update.*\n",
        "\n",
        "- **epochs**\n",
        "  - 1 epoch: running through the whole dataset once\n",
        "  - $epochs = iterations \\div \\frac{totaldata}{minibatch} = 3000 \\div \\frac{30830}{100} = 4$\n"
      ]
    },
    {
      "cell_type": "code",
      "metadata": {
        "colab": {
          "base_uri": "https://localhost:8080/"
        },
        "id": "1f7YhTtVpi1P",
        "outputId": "b6079406-58fd-436e-9803-daec11755ea6"
      },
      "source": [
        "import torch\n",
        "import torch.nn as nn\n",
        "import torchvision.transforms as transforms\n",
        "import torchvision.datasets as dsets\n",
        "\n",
        "# Hyperparameters\n",
        "batch_size = 100\n",
        "num_iters = 6000\n",
        "input_dim = 28*28 # num_features = 784\n",
        "output_dim = 10\n",
        "learning_rate = 0.001\n",
        "\n",
        "# Device\n",
        "device = torch.device(\"cuda:0\" if torch.cuda.is_available() else \"cpu\")\n",
        "\n",
        "\n",
        "\n",
        "\n",
        "num_epochs = num_iters / (len(train_dataset) / batch_size)\n",
        "num_epochs = int(num_epochs)\n",
        "\n",
        "train_loader = torch.utils.data.DataLoader(dataset=train_dataset, \n",
        "                                           batch_size=batch_size, \n",
        "                                           shuffle=True)   # It's better to shuffle the whole training dataset! \n",
        "\n",
        "test_loader = torch.utils.data.DataLoader(dataset=test_dataset, \n",
        "                                          batch_size=batch_size, \n",
        "                                          shuffle=False) \n",
        "\n",
        "class DeepNeuralNetworkModel(nn.Module):\n",
        "    def __init__(self, input_size, num_classes, num_hidden):\n",
        "        super().__init__()\n",
        "        ### 1st hidden layer: 784 --> 100\n",
        "        self.linear_1 = nn.Linear(input_size, num_hidden)\n",
        "        ### Non-linearity in 1st hidden layer\n",
        "        self.relu_1 = nn.ReLU()\n",
        "\n",
        "        ### 2nd hidden layer: 100 --> 100\n",
        "        self.linear_2 = nn.Linear(num_hidden, num_hidden)\n",
        "        ### Non-linearity in 2nd hidden layer\n",
        "        self.relu_2 = nn.ReLU()\n",
        "\n",
        "        ### 3rd hidden layer: 100 --> 100\n",
        "        self.linear_3 = nn.Linear(num_hidden, num_hidden)\n",
        "        ### Non-linearity in 3rd hidden layer\n",
        "        self.relu_3 = nn.ReLU()\n",
        "\n",
        "\n",
        "        ### 4th hidden layer: 100 --> 100\n",
        "        self.linear_4 = nn.Linear(num_hidden, num_hidden)\n",
        "        ### Non-linearity in 4th hidden layer\n",
        "        self.relu_4 = nn.ReLU()\n",
        "\n",
        "\n",
        "        ### 5th hidden layer: 100 --> 100\n",
        "        self.linear_5 = nn.Linear(num_hidden, num_hidden)\n",
        "        ### Non-linearity in 5th hidden layer\n",
        "        self.relu_5 = nn.ReLU()\n",
        "\n",
        "        ### 6th hidden layer: 100 --> 100\n",
        "        self.linear_6 = nn.Linear(num_hidden, num_hidden)\n",
        "        ### Non-linearity in 6th hidden layer\n",
        "        self.relu_6 = nn.ReLU()\n",
        "\n",
        "\n",
        "        ### Output layer: 100 --> 10\n",
        "        self.linear_out = nn.Linear(num_hidden, num_classes)\n",
        "\n",
        "    def forward(self, x):\n",
        "        ### 1st hidden layer\n",
        "        out  = self.linear_1(x)\n",
        "        ### Non-linearity in 1st hidden layer\n",
        "        out = self.relu_1(out)\n",
        "        \n",
        "        ### 2nd hidden layer\n",
        "        out  = self.linear_2(out)\n",
        "        ### Non-linearity in 2nd hidden layer\n",
        "        out = self.relu_2(out)\n",
        "\n",
        "        ### 3rd hidden layer\n",
        "        out  = self.linear_3(out)\n",
        "        ### Non-linearity in 3rd hidden layer\n",
        "        out = self.relu_3(out)\n",
        "        \n",
        "        ### 4th hidden layer\n",
        "        out  = self.linear_4(out)\n",
        "        ### Non-linearity in 4th hidden layer\n",
        "        out = self.relu_4(out)\n",
        "\n",
        "\n",
        "        ### 5th hidden layer\n",
        "        out  = self.linear_5(out)\n",
        "        ### Non-linearity in 5th hidden layer\n",
        "        out = self.relu_5(out)\n",
        "\n",
        "\n",
        "        ### 6th hidden layer\n",
        "        out  = self.linear_6(out)\n",
        "        ### Non-linearity in 6th hidden layer\n",
        "        out = self.relu_6(out)\n",
        "\n",
        "\n",
        "        # Linear layer (output)\n",
        "        probas  = self.linear_out(out)\n",
        "        return probas\n",
        "\n",
        "# INSTANTIATE MODEL CLASS\n",
        "\n",
        "model = DeepNeuralNetworkModel(input_size = input_dim,\n",
        "                               num_classes = output_dim,\n",
        "                               num_hidden = 128)\n",
        "# To enable GPU\n",
        "model.to(device)\n",
        "\n",
        "# INSTANTIATE LOSS & OPTIMIZER CLASS\n",
        "\n",
        "criterion = nn.CrossEntropyLoss()\n",
        "optimizer = torch.optim.Adam(model.parameters(), lr=learning_rate)\n",
        "\n",
        "iter = 0\n",
        "for epoch in range(num_epochs):\n",
        "    for i, (images, labels) in enumerate(train_loader):\n",
        "\n",
        "        images = images.view(-1, 28*28).to(device)\n",
        "        labels = labels.to(device)\n",
        "\n",
        "        # Clear gradients w.r.t. parameters\n",
        "        optimizer.zero_grad()\n",
        "\n",
        "        # Forward pass to get output/logits\n",
        "        outputs = model(images.float())\n",
        "\n",
        "        # Calculate Loss: softmax --> cross entropy loss\n",
        "        loss = criterion(outputs, labels)\n",
        "\n",
        "        # Getting gradients w.r.t. parameters\n",
        "        loss.backward()\n",
        "\n",
        "        # Updating parameters\n",
        "        optimizer.step()\n",
        "\n",
        "        iter += 1\n",
        "\n",
        "        if iter % 500 == 0:\n",
        "            # Calculate Accuracy         \n",
        "            correct = 0\n",
        "            total = 0\n",
        "            # Iterate through test dataset\n",
        "            for images, labels in test_loader:\n",
        "               \n",
        "                images = images.view(-1, 28*28).to(device)\n",
        "\n",
        "                # Forward pass only to get logits/output\n",
        "                outputs = model(images.float())\n",
        "\n",
        "                # Get predictions from the maximum value\n",
        "                _, predicted = torch.max(outputs, 1)\n",
        "\n",
        "                # Total number of labels\n",
        "                total += labels.size(0)\n",
        "\n",
        "\n",
        "                # Total correct predictions\n",
        "                if torch.cuda.is_available():\n",
        "                    correct += (predicted.cpu() == labels.cpu()).sum() \n",
        "                else:\n",
        "                    correct += (predicted == labels).sum()\n",
        "\n",
        "            accuracy = 100 * correct.item() / total\n",
        "\n",
        "            # Print Loss\n",
        "            print('Iteration: {}. Loss: {}. Accuracy: {}'.format(iter, loss.item(), accuracy))"
      ],
      "execution_count": null,
      "outputs": [
        {
          "output_type": "stream",
          "text": [
            "Iteration: 500. Loss: 0.7081325054168701. Accuracy: 61.30392474862147\n",
            "Iteration: 1000. Loss: 0.7107574939727783. Accuracy: 60.55789815115148\n",
            "Iteration: 1500. Loss: 0.6062929034233093. Accuracy: 62.04995134609147\n",
            "Iteration: 2000. Loss: 0.6201570630073547. Accuracy: 62.76354200454103\n",
            "Iteration: 2500. Loss: 0.5034205913543701. Accuracy: 62.63379824845929\n",
            "Iteration: 3000. Loss: 0.5552213788032532. Accuracy: 61.466104443723644\n",
            "Iteration: 3500. Loss: 0.5344298481941223. Accuracy: 61.07687317547843\n",
            "Iteration: 4000. Loss: 0.32604697346687317. Accuracy: 61.53097632176451\n",
            "Iteration: 4500. Loss: 0.3501764237880707. Accuracy: 60.49302627311061\n",
            "Iteration: 5000. Loss: 0.4791857898235321. Accuracy: 60.72007784625365\n",
            "Iteration: 5500. Loss: 0.371969074010849. Accuracy: 61.66072007784626\n"
          ],
          "name": "stdout"
        }
      ]
    },
    {
      "cell_type": "markdown",
      "metadata": {
        "id": "XZKk8EqokiR8"
      },
      "source": [
        "###Result\n",
        "\n",
        "|Setting| Batch Size       | No. of iteration     | Learning Rate     |\n",
        "| :------------- | :----------: | -----------: |:------------- |\n",
        "|           |\n",
        "|1|  100 | 3000   | .001    |\n",
        "|2| 200   | 3000 | .001|\n",
        "|3| 100|3000 |.1 |\n",
        "|4| 100|6000 |.001 |\n",
        "|5|50|3000|.001||\n",
        "\n",
        "in setting 1 output was approximately 51% but remaining the same value for all hypermeter except batch size.batch size was increased then the accuracy was almost same.approximately 62-63%% then i tried different hypermeter,for every changes accuracy was almost same.but when i toke batch size 200 instead of 100 for second iteration accuracy was increased a bit ."
      ]
    }
  ]
}